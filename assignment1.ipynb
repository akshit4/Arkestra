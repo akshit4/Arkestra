{
 "cells": [
  {
   "cell_type": "markdown",
   "metadata": {},
   "source": [
    "# Instructions:\n",
    "\n",
    "- use jupyter notebooks for assignments\n",
    "- use proper comments for steps that you take\n",
    "- define required methods for each question mentioned\n",
    "- you can use your local machine to do the assignment or you can use google colab"
   ]
  },
  {
   "cell_type": "markdown",
   "metadata": {},
   "source": [
    "# 1. Given following list of values calculate :\n",
    "    - mean \n",
    "    - variance\n",
    "    - standard deviation\n",
    "    \n",
    "    **without using any libraries**\n",
    "\n",
    "```python\n",
    "    q1_data = [\n",
    "       0.08473416, 0.18670952, 0.15063891, 0.22550248, 0.99466672,\n",
    "       0.38244626, 0.2346666 , 0.18078445, 0.07798496, 0.56375255,\n",
    "       0.64628402, 0.33353106, 0.27746158, 0.88710239, 0.07215482,\n",
    "       0.80072089, 0.04816288, 0.11068402, 0.83874005, 0.37014543,\n",
    "       0.82546577, 0.96785321, 0.17687025, 0.78457399, 0.98164464,\n",
    "       0.01723059, 0.87565799, 0.78620441, 0.20378519, 0.04373454,\n",
    "       0.63323497, 0.16859416, 0.88027828, 0.93477429, 0.70813158,\n",
    "       0.06375845, 0.7510297 , 0.00597363, 0.30932029, 0.93512177,\n",
    "       0.68122884, 0.07073696, 0.26253911, 0.80020861, 0.73100009,\n",
    "       0.33736795, 0.88782733, 0.84169754, 0.13155419, 0.24717684,\n",
    "       0.07645009, 0.18016615, 0.24310907, 0.8802279 , 0.63924784,\n",
    "       0.54897607, 0.81156875, 0.71356347, 0.09747902, 0.85324896,\n",
    "       0.75457826, 0.48323677, 0.66859021, 0.86102709, 0.44717595,\n",
    "       0.72459013, 0.08253713, 0.83887809, 0.20275699, 0.23231761,\n",
    "       0.52913994, 0.89501632, 0.29458215, 0.81043095, 0.45363345,\n",
    "       0.19914219, 0.33930174, 0.42532953, 0.93837637, 0.1533002 ,\n",
    "       0.4481315 , 0.95399455, 0.02035078, 0.60796955, 0.15663019,\n",
    "       0.440324  , 0.07130071, 0.60222774, 0.02997724, 0.57653753,\n",
    "       0.11966911, 0.62537904, 0.58608305, 0.32914184, 0.53694933,\n",
    "       0.97339381, 0.16150169, 0.98886267, 0.72884729, 0.95352043\n",
    "    ]\n",
    "```\n"
   ]
  },
  {
   "cell_type": "code",
   "execution_count": 1,
   "metadata": {},
   "outputs": [
    {
     "name": "stdout",
     "output_type": "stream",
     "text": [
      "Mean =  0.4880021935\n",
      "Variance =  33.71313606829637\n",
      "Standard deviation =  5.806301410389954\n"
     ]
    }
   ],
   "source": [
    "q1_data = [0.08473416, 0.18670952, 0.15063891, 0.22550248, 0.99466672,\n",
    "           0.38244626, 0.2346666 , 0.18078445, 0.07798496, 0.56375255,\n",
    "           0.64628402, 0.33353106, 0.27746158, 0.88710239, 0.07215482,\n",
    "           0.80072089, 0.04816288, 0.11068402, 0.83874005, 0.37014543,\n",
    "           0.82546577, 0.96785321, 0.17687025, 0.78457399, 0.98164464,\n",
    "           0.01723059, 0.87565799, 0.78620441, 0.20378519, 0.04373454,\n",
    "           0.63323497, 0.16859416, 0.88027828, 0.93477429, 0.70813158,\n",
    "           0.06375845, 0.7510297 , 0.00597363, 0.30932029, 0.93512177,\n",
    "           0.68122884, 0.07073696, 0.26253911, 0.80020861, 0.73100009,\n",
    "           0.33736795, 0.88782733, 0.84169754, 0.13155419, 0.24717684,\n",
    "           0.07645009, 0.18016615, 0.24310907, 0.8802279 , 0.63924784,\n",
    "           0.54897607, 0.81156875, 0.71356347, 0.09747902, 0.85324896,\n",
    "           0.75457826, 0.48323677, 0.66859021, 0.86102709, 0.44717595,\n",
    "           0.72459013, 0.08253713, 0.83887809, 0.20275699, 0.23231761,\n",
    "           0.52913994, 0.89501632, 0.29458215, 0.81043095, 0.45363345,\n",
    "           0.19914219, 0.33930174, 0.42532953, 0.93837637, 0.1533002 ,\n",
    "           0.4481315 , 0.95399455, 0.02035078, 0.60796955, 0.15663019,\n",
    "           0.440324  , 0.07130071, 0.60222774, 0.02997724, 0.57653753,\n",
    "           0.11966911, 0.62537904, 0.58608305, 0.32914184, 0.53694933,\n",
    "           0.97339381, 0.16150169, 0.98886267, 0.72884729, 0.95352043]\n",
    "\n",
    "#mean\n",
    "sum_number = sum(q1_data)\n",
    "    \n",
    "mean = sum_number / len(q1_data)\n",
    "print(\"Mean = \",mean)\n",
    "\n",
    "#varience\n",
    "a = 0\n",
    "for i in range(len(q1_data)):\n",
    "    a += (q1_data[i]*q1_data[i])\n",
    "    \n",
    "    \n",
    "summation = a/ len(q1_data) \n",
    "varience = a - (mean*mean)\n",
    "print(\"Variance = \",varience)\n",
    "\n",
    "#Standard deviation\n",
    "deviation = varience**(1/2)\n",
    "print(\"Standard deviation = \",deviation)"
   ]
  },
  {
   "cell_type": "markdown",
   "metadata": {},
   "source": [
    "# 2. Plot histogram and analysis exercise\n",
    "    - generate 1 million random numbers range(0, 1000)\n",
    "        - consider these numbers to be your population P\n",
    "\n",
    "    - plot histogram of these random numbers\n",
    "    - after seeing the histogram what conclusions can you make about the distribution of these numbers"
   ]
  },
  {
   "cell_type": "code",
   "execution_count": 2,
   "metadata": {
    "scrolled": false
   },
   "outputs": [
    {
     "data": {
      "text/plain": [
       "<Figure size 640x480 with 1 Axes>"
      ]
     },
     "metadata": {},
     "output_type": "display_data"
    }
   ],
   "source": [
    "import random\n",
    "import matplotlib.pyplot as plt\n",
    "\n",
    "random_list = []\n",
    "for i in range(0,1000000):\n",
    "    number = random.randint(0,1000)\n",
    "    random_list.append(number)\n",
    "    \n",
    "    \n",
    "plt.hist(random_list)\n",
    "plt.show()"
   ]
  },
  {
   "cell_type": "markdown",
   "metadata": {},
   "source": [
    "# 3. Create a function random_var(x : int) which returns\n",
    "    - 0 if x < 0\n",
    "    - 1 if 0 <= x <= 1\n",
    "    - 2 if 1 < x < 3\n",
    "    - 3 if x > 3\n",
    "\n",
    "    - send 10_000 random integer range(0, 1000) to random_var(x) written above\n",
    "    - store results in a list\n",
    "    - see the distribution of this random variable"
   ]
  },
  {
   "cell_type": "code",
   "execution_count": 3,
   "metadata": {},
   "outputs": [
    {
     "data": {
      "image/png": "[encoded data removed]",
      "text/plain": [
       "<Figure size 432x288 with 1 Axes>"
      ]
     },
     "metadata": {
      "needs_background": "light"
     },
     "output_type": "display_data"
    }
   ],
   "source": [
    "import random\n",
    "import math\n",
    "results = []\n",
    "def random_var(number):\n",
    "    if number < 0:\n",
    "        results.append(0)\n",
    "    if number >= 0 and number <= 1:\n",
    "        results.append(1)\n",
    "    if number > 1 and number < 3:\n",
    "        results.append(2)\n",
    "    if number > 3:\n",
    "        results.append(3)\n",
    "\n",
    "for i in range(0,10000):\n",
    "    number = random.randint(0,1000)\n",
    "    random_var(number)\n",
    "    \n",
    "    \n",
    "results = [math.log(i) for i in results]\n",
    "plt.hist(results)\n",
    "plt.show()"
   ]
  },
  {
   "cell_type": "markdown",
   "metadata": {},
   "source": [
    "# 4. Create a random variable R which generates values\n",
    "    - 1 with a probability of 0.1\n",
    "    - 2 with a probability of 0.2\n",
    "    - 3 with a probability of 0.7"
   ]
  },
  {
   "cell_type": "code",
   "execution_count": 56,
   "metadata": {},
   "outputs": [
    {
     "data": {
      "text/plain": [
       "[3]"
      ]
     },
     "execution_count": 56,
     "metadata": {},
     "output_type": "execute_result"
    }
   ],
   "source": [
    "from random import choices\n",
    "population = [1,2,3]\n",
    "weights = [0.1, 0.2, 0.7]\n",
    "\n",
    "choices(population, weights)"
   ]
  },
  {
   "cell_type": "markdown",
   "metadata": {},
   "source": [
    "# 5. Bootstrap exercise\n",
    "    - use assignment1_population.csv.gz as your population P\n",
    "        - let mean of population P be M_population\n",
    "\n",
    "    - write a function get_sample() to get sample from population P of given sample_size\n",
    "    - fix sample_size=35\n",
    "    - generate 40 samples of sample_size=35\n",
    "    - get mean of each of 40 samples M_samples = mean(m1, m2, ..., m40)\n",
    "    - compare M_population and M_samples\n",
    "\n",
    "    - Bonus:\n",
    "        - identify distribution of the population"
   ]
  },
  {
   "cell_type": "code",
   "execution_count": 5,
   "metadata": {},
   "outputs": [],
   "source": [
    "import pandas as pd\n",
    "import numpy as np\n",
    "population = pd.read_csv('population_assignment1.csv')"
   ]
  },
  {
   "cell_type": "code",
   "execution_count": 6,
   "metadata": {
    "scrolled": false
   },
   "outputs": [
    {
     "name": "stdout",
     "output_type": "stream",
     "text": [
      "Population Mean =  16.994445951723474\n"
     ]
    }
   ],
   "source": [
    "M_population = sum(population['rv']) / len(population)\n",
    "\n",
    "\n",
    "print('Population Mean = ',M_population)"
   ]
  },
  {
   "cell_type": "code",
   "execution_count": 8,
   "metadata": {
    "scrolled": false
   },
   "outputs": [
    {
     "data": {
      "image/png": "[encoded data removed]",
      "text/plain": [
       "<Figure size 432x288 with 1 Axes>"
      ]
     },
     "metadata": {
      "needs_background": "light"
     },
     "output_type": "display_data"
    }
   ],
   "source": [
    "def mean(arr, n):\n",
    "    sum1 = 0\n",
    "    for i in range(0,n):\n",
    "        sum1 += arr[i]\n",
    "        \n",
    "    return sum1/n\n",
    "\n",
    "def get_sample(population):\n",
    "    i = random.randint(0,len(population))\n",
    "    sample = [population[x] for x in range(i,i-35,-1) ]\n",
    "    return sample\n",
    "\n",
    "sample = [get_sample(population['rv']) for _ in range(40)]\n",
    "M_sample = [mean(sample[i],35) for i in range(40)]\n",
    "\n",
    "plt.hist(M_sample)\n",
    "plt.show()"
   ]
  },
  {
   "cell_type": "markdown",
   "metadata": {},
   "source": [
    "# 6. Covariance exercise\n",
    "\n",
    "    **without using any libraries**\n",
    "\n",
    "    - use assignment1_population.csv.gz as your input array A\n",
    "    - r1 = first 1000 elements of A\n",
    "    - r2 = last 1000 elements of A\n",
    "    - r3 = index 5000 to 6000 elements of A\n",
    "    - find covariance between\n",
    "        - r1,r2\n",
    "        - r2,r3\n",
    "        - r3,r1"
   ]
  },
  {
   "cell_type": "code",
   "execution_count": 9,
   "metadata": {},
   "outputs": [],
   "source": [
    "r1 = population.iloc[:1000]\n",
    "r2 = population.iloc[-1000:]\n",
    "r3 = population.iloc[5000:6000]"
   ]
  },
  {
   "cell_type": "code",
   "execution_count": 10,
   "metadata": {},
   "outputs": [],
   "source": [
    "r1.reset_index(drop = True, inplace = True)\n",
    "r2.reset_index(drop = True, inplace = True)\n",
    "r3.reset_index(drop = True, inplace = True)"
   ]
  },
  {
   "cell_type": "code",
   "execution_count": 11,
   "metadata": {},
   "outputs": [
    {
     "data": {
      "text/plain": [
       "599450.2256730074"
      ]
     },
     "execution_count": 11,
     "metadata": {},
     "output_type": "execute_result"
    }
   ],
   "source": [
    "a = r1['rv'].subtract(10)\n",
    "b = r1['rv'].subtract(1)\n",
    "sum(a*b)"
   ]
  },
  {
   "cell_type": "code",
   "execution_count": 12,
   "metadata": {},
   "outputs": [
    {
     "data": {
      "text/plain": [
       "pandas.core.series.Series"
      ]
     },
     "execution_count": 12,
     "metadata": {},
     "output_type": "execute_result"
    }
   ],
   "source": [
    "type(r1['rv'])"
   ]
  },
  {
   "cell_type": "code",
   "execution_count": 13,
   "metadata": {
    "scrolled": false
   },
   "outputs": [
    {
     "name": "stdout",
     "output_type": "stream",
     "text": [
      "Covarience of r1, r2 -8.502324734926912\n",
      "Covarience of r2, r3 25.07046787711\n",
      "Covarience of r3, r1 4.4461440474918055\n"
     ]
    }
   ],
   "source": [
    "def covariance(arr1,arr2):\n",
    "    mean_arr1 = sum(arr1['rv']) / len(arr1)\n",
    "    mean_arr2 = sum(arr2['rv']) / len(arr2)\n",
    "    x = arr1['rv'].subtract(mean_arr1)\n",
    "    y = arr2['rv'].subtract(mean_arr2)\n",
    "    den = sum(x*y)\n",
    "    return den/len(arr1)\n",
    "        \n",
    "    \n",
    "print('Covarience of r1, r2',covariance(r1,r2))\n",
    "print('Covarience of r2, r3',covariance(r2,r3))\n",
    "print('Covarience of r3, r1',covariance(r3,r1))"
   ]
  },
  {
   "cell_type": "markdown",
   "metadata": {},
   "source": [
    "# 7. PCC and SCC exercise\n",
    "\n",
    "    PCC = Pearson Correlation Coefficient \n",
    "    SCC = Spearmans Correlation Coefficient\n",
    "\n",
    "    **without using any libraries**\n",
    "\n",
    "    - Use same definition of r1, r2 from covariance exercise\n",
    "    - calculate PCC, SCC"
   ]
  },
  {
   "cell_type": "code",
   "execution_count": 14,
   "metadata": {
    "scrolled": false
   },
   "outputs": [
    {
     "name": "stdout",
     "output_type": "stream",
     "text": [
      "Pearson Correlation Cofficient of r1 and r2 =  -59.710335527087416\n",
      "Pearson Correlation Cofficient of r2 and r3 =  71.15922091188814\n",
      "Pearson Correlation Cofficient of r3 and r1 =  0.22305037623332907\n"
     ]
    }
   ],
   "source": [
    "#Standard deviation\n",
    "def standard_deviation(arr):\n",
    "    mean_arr = sum(arr['rv']) / len(arr)\n",
    "    variance = (sum(arr['rv'].subtract(mean_arr))**2) / len(arr)\n",
    "    return variance**1/2\n",
    "\n",
    "#pcc\n",
    "def pcc(arr1,arr2):\n",
    "    cov = covariance(arr1,arr2)\n",
    "    devX = standard_deviation(arr1)\n",
    "    devY = standard_deviation(arr2)\n",
    "    return cov/devX*devY\n",
    "\n",
    "n = len(r1)\n",
    "print('Pearson Correlation Cofficient of r1 and r2 = ',pcc(r1,r2))\n",
    "print('Pearson Correlation Cofficient of r2 and r3 = ',pcc(r2,r3))\n",
    "print('Pearson Correlation Cofficient of r3 and r1 = ',pcc(r3,r1))"
   ]
  },
  {
   "cell_type": "code",
   "execution_count": 15,
   "metadata": {},
   "outputs": [],
   "source": [
    "c1 = population.iloc[:1000]\n",
    "c2 = population.iloc[-1000:]\n",
    "c3 = population.iloc[5000:6000]"
   ]
  },
  {
   "cell_type": "code",
   "execution_count": 16,
   "metadata": {
    "scrolled": true
   },
   "outputs": [
    {
     "name": "stderr",
     "output_type": "stream",
     "text": [
      "C:\\Users\\lenovo\\Anaconda3\\lib\\site-packages\\ipykernel_launcher.py:1: SettingWithCopyWarning: \n",
      "A value is trying to be set on a copy of a slice from a DataFrame.\n",
      "Try using .loc[row_indexer,col_indexer] = value instead\n",
      "\n",
      "See the caveats in the documentation: https://pandas.pydata.org/pandas-docs/stable/user_guide/indexing.html#returning-a-view-versus-a-copy\n",
      "  \"\"\"Entry point for launching an IPython kernel.\n",
      "C:\\Users\\lenovo\\Anaconda3\\lib\\site-packages\\ipykernel_launcher.py:2: SettingWithCopyWarning: \n",
      "A value is trying to be set on a copy of a slice from a DataFrame.\n",
      "Try using .loc[row_indexer,col_indexer] = value instead\n",
      "\n",
      "See the caveats in the documentation: https://pandas.pydata.org/pandas-docs/stable/user_guide/indexing.html#returning-a-view-versus-a-copy\n",
      "  \n",
      "C:\\Users\\lenovo\\Anaconda3\\lib\\site-packages\\ipykernel_launcher.py:3: SettingWithCopyWarning: \n",
      "A value is trying to be set on a copy of a slice from a DataFrame.\n",
      "Try using .loc[row_indexer,col_indexer] = value instead\n",
      "\n",
      "See the caveats in the documentation: https://pandas.pydata.org/pandas-docs/stable/user_guide/indexing.html#returning-a-view-versus-a-copy\n",
      "  This is separate from the ipykernel package so we can avoid doing imports until\n"
     ]
    }
   ],
   "source": [
    "c1['rank'] = c1['rv'].rank(method = 'max')\n",
    "c2['rank'] = c2['rv'].rank(method = 'max')\n",
    "c3['rank'] = c3['rv'].rank(method = 'max')\n",
    "\n",
    "c1.reset_index(drop = True, inplace = True)\n",
    "c2.reset_index(drop = True, inplace = True)\n",
    "c3.reset_index(drop = True, inplace = True)"
   ]
  },
  {
   "cell_type": "code",
   "execution_count": 17,
   "metadata": {},
   "outputs": [],
   "source": [
    "def di(arr1,arr2):\n",
    "    di = (arr1['rank'] - arr2['rank'])**2\n",
    "    return sum(di)\n",
    "\n",
    "def scc(arr1,arr2):\n",
    "    di1 = di(arr1,arr2)\n",
    "    a = 6 * di1\n",
    "    b = len(arr1) * ((len(arr1)**2 )- 1)\n",
    "    return a / b"
   ]
  },
  {
   "cell_type": "code",
   "execution_count": 18,
   "metadata": {
    "scrolled": true
   },
   "outputs": [
    {
     "name": "stdout",
     "output_type": "stream",
     "text": [
      "Spearman Correlation Cofficient of r1 and r2 =  1.0346341706341706\n",
      "Spearman Correlation Cofficient of r2 and r3 =  0.997020589020589\n",
      "Spearman Correlation Cofficient of r3 and r1 =  0.9886953406953407\n"
     ]
    }
   ],
   "source": [
    "print('Spearman Correlation Cofficient of r1 and r2 = ',scc(c1,c2))\n",
    "print('Spearman Correlation Cofficient of r2 and r3 = ',scc(c2,c3))\n",
    "print('Spearman Correlation Cofficient of r3 and r1 = ',scc(c3,c1))"
   ]
  },
  {
   "cell_type": "markdown",
   "metadata": {},
   "source": [
    "# 8. Write a program to demonstrate working of Central limit"
   ]
  },
  {
   "cell_type": "code",
   "execution_count": 23,
   "metadata": {
    "scrolled": true
   },
   "outputs": [
    {
     "data": {
      "image/png": "[encoded data removed]",
      "text/plain": [
       "<Figure size 432x288 with 1 Axes>"
      ]
     },
     "metadata": {
      "needs_background": "light"
     },
     "output_type": "display_data"
    }
   ],
   "source": [
    "plt.hist(population['rv'],bins = 5000)\n",
    "plt.show()"
   ]
  },
  {
   "cell_type": "markdown",
   "metadata": {},
   "source": [
    "**log normal distribution**"
   ]
  },
  {
   "cell_type": "code",
   "execution_count": 20,
   "metadata": {},
   "outputs": [
    {
     "data": {
      "image/png": "[encoded data removed]",
      "text/plain": [
       "<Figure size 432x288 with 1 Axes>"
      ]
     },
     "metadata": {
      "needs_background": "light"
     },
     "output_type": "display_data"
    }
   ],
   "source": [
    "sample = [get_sample(population['rv']) for _ in range(50)]\n",
    "\n",
    "M_sample = [mean(sample[i],35) for i in range(50)]\n",
    "\n",
    "plt.hist(M_sample)\n",
    "\n",
    "plt.show()"
   ]
  },
  {
   "cell_type": "code",
   "execution_count": null,
   "metadata": {},
   "outputs": [],
   "source": []
  }
 ],
 "metadata": {
  "kernelspec": {
   "display_name": "Python 3",
   "language": "python",
   "name": "python3"
  },
  "language_info": {
   "codemirror_mode": {
    "name": "ipython",
    "version": 3
   },
   "file_extension": ".py",
   "mimetype": "text/x-python",
   "name": "python",
   "nbconvert_exporter": "python",
   "pygments_lexer": "ipython3",
   "version": "3.7.4"
  }
 },
 "nbformat": 4,
 "nbformat_minor": 5
}
